{
 "cells": [
  {
   "cell_type": "markdown",
   "id": "23dfec14",
   "metadata": {},
   "source": [
    "# Pre-preocessing\n",
    "## 安装必要的包\n",
    "matlab v3.7以上的版本需要使用hdf格式"
   ]
  },
  {
   "cell_type": "code",
   "execution_count": 1,
   "id": "332c6104",
   "metadata": {},
   "outputs": [],
   "source": [
    "import scipy.io as scio #这是v3.7之前的版本需要用的格式\n",
    "import hdf5storage as hdf\n",
    "import pandas as pd\n",
    "import numpy as np\n",
    "import scipy\n",
    "import random\n",
    "import os\n",
    "\n",
    "import matplotlib.pyplot as plt"
   ]
  },
  {
   "cell_type": "markdown",
   "id": "41f70163",
   "metadata": {},
   "source": [
    "## 1 - load data "
   ]
  },
  {
   "cell_type": "code",
   "execution_count": 3,
   "id": "c821e09f",
   "metadata": {},
   "outputs": [],
   "source": [
    "dataPath = './Frequency/processed_data/'\n",
    "real = hdf.loadmat(dataPath+'real_29.mat')\n",
    "imag = hdf.loadmat(dataPath+'imag_29.mat') # mat文件读入的时候是list类型\n",
    "# amp_ratio = hdf.loadmat(dataPath+'amp_ratio.mat')\n",
    "# phase_diff = hdf.loadmat(dataPath+'phase_diff.mat')"
   ]
  },
  {
   "cell_type": "code",
   "execution_count": 4,
   "id": "3262ae01",
   "metadata": {},
   "outputs": [],
   "source": [
    "real_orig = real['real_pf']\n",
    "imag_orig = imag['imag_pf']"
   ]
  },
  {
   "cell_type": "code",
   "execution_count": 5,
   "id": "ca4def76",
   "metadata": {},
   "outputs": [
    {
     "data": {
      "text/plain": [
       "array([[[0.12767506, 0.29170379, 0.35337441, ..., 0.3254348 ,\n",
       "         0.32146159, 0.30445367],\n",
       "        [0.19272457, 0.39150622, 0.39276247, ..., 0.33201241,\n",
       "         0.32549322, 0.31773876],\n",
       "        [0.19422494, 0.39173372, 0.39798877, ..., 0.34870598,\n",
       "         0.34758897, 0.34558736],\n",
       "        ...,\n",
       "        [0.19430815, 0.38957544, 0.39062423, ..., 0.3297502 ,\n",
       "         0.32699771, 0.31825836],\n",
       "        [0.19698523, 0.393775  , 0.393775  , ..., 0.34927295,\n",
       "         0.33420242, 0.33420242],\n",
       "        [0.19752549, 0.39854307, 0.4023205 , ..., 0.34159997,\n",
       "         0.34159997, 0.33596845]],\n",
       "\n",
       "       [[0.21634114, 0.43333679, 0.43333679, ..., 0.38678141,\n",
       "         0.38293931, 0.37781431],\n",
       "        [0.16649169, 0.37282462, 0.4235782 , ..., 0.38952604,\n",
       "         0.38563471, 0.38563471],\n",
       "        [0.20763628, 0.42351943, 0.4320821 , ..., 0.40150769,\n",
       "         0.40015374, 0.39523381],\n",
       "        ...,\n",
       "        [0.20545338, 0.41739692, 0.42722125, ..., 0.39215605,\n",
       "         0.39091042, 0.38940603],\n",
       "        [0.16898772, 0.37043059, 0.40740965, ..., 0.38030836,\n",
       "         0.37799701, 0.37088621],\n",
       "        [0.21789247, 0.43738721, 0.44194397, ..., 0.38201511,\n",
       "         0.38180663, 0.37954982]],\n",
       "\n",
       "       [[0.18228224, 0.37665716, 0.39112306, ..., 0.35014856,\n",
       "         0.34793398, 0.34636877],\n",
       "        [0.19535427, 0.39094712, 0.39238873, ..., 0.33938546,\n",
       "         0.33938546, 0.33815119],\n",
       "        [0.19562612, 0.39321859, 0.39590672, ..., 0.34288208,\n",
       "         0.34288208, 0.31982382],\n",
       "        ...,\n",
       "        [0.1962571 , 0.39423798, 0.39423798, ..., 0.343156  ,\n",
       "         0.343156  , 0.343156  ],\n",
       "        [0.19233988, 0.38534643, 0.38965558, ..., 0.34668113,\n",
       "         0.3457818 , 0.3369112 ],\n",
       "        [0.1971627 , 0.39113481, 0.39113481, ..., 0.34038243,\n",
       "         0.34038243, 0.33870824]],\n",
       "\n",
       "       ...,\n",
       "\n",
       "       [[0.19748455, 0.38818888, 0.40011217, ..., 0.33919367,\n",
       "         0.33919367, 0.33919367],\n",
       "        [0.2064641 , 0.41386785, 0.41627935, ..., 0.33574544,\n",
       "         0.33176114, 0.32288681],\n",
       "        [0.20951992, 0.41784777, 0.41784777, ..., 0.3317527 ,\n",
       "         0.33150634, 0.3311104 ],\n",
       "        ...,\n",
       "        [0.20299669, 0.41150153, 0.42119043, ..., 0.34655364,\n",
       "         0.34655364, 0.34655364],\n",
       "        [0.20500304, 0.41192295, 0.41403219, ..., 0.34048773,\n",
       "         0.34048773, 0.33967559],\n",
       "        [0.20638788, 0.41426353, 0.4159411 , ..., 0.33427587,\n",
       "         0.33427587, 0.33369046]],\n",
       "\n",
       "       [[0.19968496, 0.39945801, 0.40305659, ..., 0.34380959,\n",
       "         0.33935119, 0.33328031],\n",
       "        [0.19557753, 0.39239605, 0.39239605, ..., 0.33795436,\n",
       "         0.33745731, 0.33463372],\n",
       "        [0.19538586, 0.3922151 , 0.39623615, ..., 0.34053163,\n",
       "         0.33935685, 0.33099046],\n",
       "        ...,\n",
       "        [0.20060545, 0.40246609, 0.40246609, ..., 0.34641992,\n",
       "         0.34330398, 0.34073658],\n",
       "        [0.19982035, 0.39966089, 0.40154016, ..., 0.34741487,\n",
       "         0.34694454, 0.3390628 ],\n",
       "        [0.19780461, 0.39964159, 0.40328164, ..., 0.35145153,\n",
       "         0.35145153, 0.35145153]],\n",
       "\n",
       "       [[0.22147757, 0.44388002, 0.44388002, ..., 0.36933959,\n",
       "         0.36705065, 0.36529888],\n",
       "        [0.22363439, 0.44836208, 0.44836208, ..., 0.37250488,\n",
       "         0.37242384, 0.36946003],\n",
       "        [0.22019051, 0.4440755 , 0.4477755 , ..., 0.36196421,\n",
       "         0.35969897, 0.35969897],\n",
       "        ...,\n",
       "        [0.22292891, 0.44667365, 0.44830248, ..., 0.36052692,\n",
       "         0.35276499, 0.34823677],\n",
       "        [0.2256262 , 0.45195848, 0.45325474, ..., 0.3692338 ,\n",
       "         0.36845733, 0.3677002 ],\n",
       "        [0.22361211, 0.44755562, 0.44949345, ..., 0.37416068,\n",
       "         0.36984134, 0.35507928]]])"
      ]
     },
     "execution_count": 5,
     "metadata": {},
     "output_type": "execute_result"
    }
   ],
   "source": [
    "#看一下加载出来的原始数据\n",
    "real_orig"
   ]
  },
  {
   "cell_type": "code",
   "execution_count": 6,
   "id": "1620dc7e-d335-4106-96af-9eb9ddedb218",
   "metadata": {},
   "outputs": [
    {
     "data": {
      "text/plain": [
       "array([[[0.22337887, 0.45463018, 0.46303371, ..., 0.48446128,\n",
       "         0.48446128, 0.48047072],\n",
       "        [0.23220947, 0.45916633, 0.47061843, ..., 0.48322101,\n",
       "         0.47925413, 0.45142588],\n",
       "        [0.22562139, 0.45671175, 0.46896788, ..., 0.4577689 ,\n",
       "         0.4577689 , 0.45694107],\n",
       "        ...,\n",
       "        [0.23766181, 0.47606167, 0.47748481, ..., 0.48464596,\n",
       "         0.48464596, 0.44656903],\n",
       "        [0.23737767, 0.47513334, 0.47838379, ..., 0.48368394,\n",
       "         0.48021679, 0.46651895],\n",
       "        [0.23446418, 0.47365883, 0.47864814, ..., 0.47993957,\n",
       "         0.47506034, 0.46870159]],\n",
       "\n",
       "       [[0.25015253, 0.50052011, 0.50271574, ..., 0.49534494,\n",
       "         0.48552233, 0.42662013],\n",
       "        [0.23449886, 0.47012548, 0.47823003, ..., 0.4925435 ,\n",
       "         0.4925435 , 0.49169652],\n",
       "        [0.24662283, 0.49637862, 0.50515218, ..., 0.49161251,\n",
       "         0.49161251, 0.49010858],\n",
       "        ...,\n",
       "        [0.22646351, 0.47541815, 0.49661064, ..., 0.5015651 ,\n",
       "         0.5015651 , 0.5015651 ],\n",
       "        [0.19144033, 0.42952383, 0.4838298 , ..., 0.49837583,\n",
       "         0.4967864 , 0.49488655],\n",
       "        [0.25532323, 0.50821671, 0.50821671, ..., 0.49768867,\n",
       "         0.49272701, 0.49125175]],\n",
       "\n",
       "       [[0.23249601, 0.46520226, 0.46670358, ..., 0.46094117,\n",
       "         0.45972392, 0.45190586],\n",
       "        [0.22522831, 0.45351444, 0.46002704, ..., 0.46320254,\n",
       "         0.46102166, 0.45852734],\n",
       "        [0.22853559, 0.46033874, 0.46478228, ..., 0.46291488,\n",
       "         0.46251826, 0.46124204],\n",
       "        ...,\n",
       "        [0.2302632 , 0.46023472, 0.46023472, ..., 0.46716791,\n",
       "         0.46450855, 0.4621745 ],\n",
       "        [0.22664344, 0.45349111, 0.45556788, ..., 0.45997405,\n",
       "         0.45528618, 0.4523645 ],\n",
       "        [0.23173706, 0.4636299 , 0.46396962, ..., 0.46300212,\n",
       "         0.46259512, 0.46259512]],\n",
       "\n",
       "       ...,\n",
       "\n",
       "       [[0.22060575, 0.44371727, 0.44725224, ..., 0.44501099,\n",
       "         0.44475114, 0.44475114],\n",
       "        [0.22312632, 0.44825363, 0.45046452, ..., 0.4434474 ,\n",
       "         0.44283794, 0.43946044],\n",
       "        [0.19963114, 0.41731484, 0.43787327, ..., 0.44037589,\n",
       "         0.44037589, 0.43768227],\n",
       "        ...,\n",
       "        [0.2208233 , 0.44204856, 0.44474721, ..., 0.45405944,\n",
       "         0.45405944, 0.45405944],\n",
       "        [0.22616334, 0.45267533, 0.45321283, ..., 0.44077328,\n",
       "         0.44077328, 0.43483283],\n",
       "        [0.21834998, 0.44386733, 0.45364462, ..., 0.4472132 ,\n",
       "         0.44681865, 0.4460692 ]],\n",
       "\n",
       "       [[0.21933495, 0.43980192, 0.43980192, ..., 0.42967156,\n",
       "         0.42939533, 0.41815963],\n",
       "        [0.21790293, 0.4352593 , 0.43756436, ..., 0.43235338,\n",
       "         0.42682292, 0.41662437],\n",
       "        [0.22653279, 0.45380659, 0.45474742, ..., 0.41586824,\n",
       "         0.41586824, 0.41586824],\n",
       "        ...,\n",
       "        [0.22701612, 0.45608026, 0.45660658, ..., 0.43231846,\n",
       "         0.4314162 , 0.42752345],\n",
       "        [0.22219135, 0.44584413, 0.44954023, ..., 0.43196887,\n",
       "         0.43166289, 0.4286375 ],\n",
       "        [0.2232639 , 0.44775476, 0.44920802, ..., 0.42326771,\n",
       "         0.42326771, 0.42326771]],\n",
       "\n",
       "       [[0.24826053, 0.49434681, 0.49434681, ..., 0.47679737,\n",
       "         0.47374764, 0.4712162 ],\n",
       "        [0.24932772, 0.49155658, 0.50040361, ..., 0.49347444,\n",
       "         0.49029221, 0.48568691],\n",
       "        [0.24779569, 0.49313448, 0.49313448, ..., 0.48152047,\n",
       "         0.48152047, 0.48004285],\n",
       "        ...,\n",
       "        [0.24774003, 0.49688208, 0.49871425, ..., 0.47100216,\n",
       "         0.46640459, 0.45985967],\n",
       "        [0.25048524, 0.50121865, 0.50121865, ..., 0.47692999,\n",
       "         0.47651315, 0.47634935],\n",
       "        [0.24841313, 0.49781418, 0.49880891, ..., 0.47705501,\n",
       "         0.47420816, 0.45169808]]])"
      ]
     },
     "execution_count": 6,
     "metadata": {},
     "output_type": "execute_result"
    }
   ],
   "source": [
    "imag_orig"
   ]
  },
  {
   "cell_type": "code",
   "execution_count": 7,
   "id": "10e6408b",
   "metadata": {},
   "outputs": [
    {
     "data": {
      "text/plain": [
       "numpy.ndarray"
      ]
     },
     "execution_count": 7,
     "metadata": {},
     "output_type": "execute_result"
    }
   ],
   "source": [
    "type(real_orig)"
   ]
  },
  {
   "cell_type": "code",
   "execution_count": 8,
   "id": "b4636e42-a3d4-4d85-8739-be1596b73121",
   "metadata": {},
   "outputs": [
    {
     "name": "stdout",
     "output_type": "stream",
     "text": [
      "(10, 300, 10240)\n",
      "(10, 300, 10240)\n"
     ]
    }
   ],
   "source": [
    "print(real_orig.shape)\n",
    "print(imag_orig.shape)"
   ]
  },
  {
   "cell_type": "markdown",
   "id": "34c94f0f-9c16-4256-b1d6-8dad876181ed",
   "metadata": {},
   "source": [
    "## 2 - reshape()"
   ]
  },
  {
   "cell_type": "code",
   "execution_count": 9,
   "id": "eaf9487e-0d41-49ac-81b3-1acdaa4762da",
   "metadata": {},
   "outputs": [],
   "source": [
    "real_all = real_orig.reshape([10*300,10240])\n",
    "imag_all = imag_orig.reshape([10*300,10240])\n",
    "# amp_ratio_all = amp_ratio_orig.reshape([10*600,27648])\n",
    "# phase_diff_all = phase_diff_orig.reshape([10*600,27648])"
   ]
  },
  {
   "cell_type": "code",
   "execution_count": 10,
   "id": "fefa3ed0-7ccb-46ec-916c-253a2a20851d",
   "metadata": {},
   "outputs": [
    {
     "name": "stdout",
     "output_type": "stream",
     "text": [
      "3000\n",
      "(3000, 10240)\n"
     ]
    }
   ],
   "source": [
    "print(len(real_all))\n",
    "print(imag_all.shape)"
   ]
  },
  {
   "cell_type": "markdown",
   "id": "583906e0-0dec-4571-8dc6-d5663e046100",
   "metadata": {},
   "source": [
    "## 3 - Data Slice\n",
    "\n",
    "这一步预期处理结果是，实部和虚部都是规模（15000，10，1024）的三维矩阵。\n",
    "- 15000 - 总样本数目\n",
    "- 10 - 每条样本的切片数\n",
    "- 1024 - 切片单元\n",
    "\n",
    "使用的函数：\n",
    "- cut() - 实现单条样本切片\n",
    "- slice() - 对所有样本切片"
   ]
  },
  {
   "cell_type": "code",
   "execution_count": 11,
   "id": "692d4c3f-b977-4793-ad5c-a0b0cee30d35",
   "metadata": {},
   "outputs": [],
   "source": [
    "# 单条样本切片\n",
    "def cut(obj, step):\n",
    "    return [obj[i:i+step] for i in range(0,len(obj),step)]"
   ]
  },
  {
   "cell_type": "code",
   "execution_count": 12,
   "id": "1dcf8d31-e500-4daa-9b82-a700a9f81f25",
   "metadata": {},
   "outputs": [],
   "source": [
    "# 数据集切片函数\n",
    "num_of_sample = len(real_all)\n",
    "realArray = []\n",
    "imagArray = []\n",
    "# ratioArray = []\n",
    "# phaseDiffArray = []\n",
    "def slice(real, imag, step):\n",
    "    for i in range(num_of_sample):\n",
    "        real_slice = cut(real[i], step)\n",
    "        imag_slice = cut(imag[i], step)\n",
    "        # amp_ratio_slice = cut(amp_ratio[i], 1024)\n",
    "        # phase_diff_slice = cut(phase_diff[i], 1024)\n",
    "        realArray.append(real_slice) # cut dataset with step = 32\n",
    "        imagArray.append(imag_slice)\n",
    "        # ratioArray.append(amp_ratio_slice)\n",
    "        # phaseDiffArray.append(phase_diff_slice)\n",
    "    return realArray,imagArray"
   ]
  },
  {
   "cell_type": "code",
   "execution_count": 13,
   "id": "d8db1eaf-6ed0-482a-ba2f-1c5ece2ebc67",
   "metadata": {},
   "outputs": [
    {
     "data": {
      "text/plain": [
       "3000"
      ]
     },
     "execution_count": 13,
     "metadata": {},
     "output_type": "execute_result"
    }
   ],
   "source": [
    "num_of_sample"
   ]
  },
  {
   "cell_type": "code",
   "execution_count": 14,
   "id": "94d153df-4866-4ef9-8ccd-b58e97f609b6",
   "metadata": {},
   "outputs": [],
   "source": [
    "realSlice, imagSlice = slice(real_all, imag_all, 1024)"
   ]
  },
  {
   "cell_type": "code",
   "execution_count": 15,
   "id": "b091befa-826e-42c0-8939-b54881a03090",
   "metadata": {},
   "outputs": [
    {
     "data": {
      "text/plain": [
       "array([0.12767506, 0.29170379, 0.35337441, ..., 0.39398651, 0.39398651,\n",
       "       0.39505628])"
      ]
     },
     "execution_count": 15,
     "metadata": {},
     "output_type": "execute_result"
    }
   ],
   "source": [
    "realSlice[0][0]"
   ]
  },
  {
   "cell_type": "code",
   "execution_count": 17,
   "id": "bb9b4462-1949-44ee-9989-c96f52d31131",
   "metadata": {},
   "outputs": [],
   "source": [
    "# 样本切分成10段并存储\n",
    "real_slice1 = []\n",
    "real_slice2 = []\n",
    "real_slice3 = []\n",
    "real_slice4 = []\n",
    "real_slice5 = [] \n",
    "real_slice6 = []\n",
    "real_slice7 = []\n",
    "real_slice8 = [] \n",
    "real_slice9 = []\n",
    "real_slice10 = []\n",
    "\n",
    "imag_slice1 = [] \n",
    "imag_slice2 = [] \n",
    "imag_slice3 = [] \n",
    "imag_slice4 = [] \n",
    "imag_slice5 = []\n",
    "imag_slice6 = [] \n",
    "imag_slice7 = [] \n",
    "imag_slice8 = [] \n",
    "imag_slice9 = [] \n",
    "imag_slice10 = []\n",
    "for i in range(3000):\n",
    "    real_slice1.append(realSlice[i][0])\n",
    "    imag_slice1.append(imagSlice[i][0])\n",
    "    real_slice2.append(realSlice[i][1])\n",
    "    imag_slice2.append(imagSlice[i][1])\n",
    "    real_slice3.append(realSlice[i][2])\n",
    "    imag_slice3.append(imagSlice[i][2])\n",
    "    real_slice4.append(realSlice[i][3])\n",
    "    imag_slice4.append(imagSlice[i][3])\n",
    "    real_slice5.append(realSlice[i][4])\n",
    "    imag_slice5.append(imagSlice[i][4])\n",
    "    real_slice6.append(realSlice[i][5])\n",
    "    imag_slice6.append(imagSlice[i][5])\n",
    "    real_slice7.append(realSlice[i][6])\n",
    "    imag_slice7.append(imagSlice[i][6])\n",
    "    real_slice8.append(realSlice[i][7])\n",
    "    imag_slice8.append(imagSlice[i][7])\n",
    "    real_slice9.append(realSlice[i][8])\n",
    "    imag_slice9.append(imagSlice[i][8])\n",
    "    real_slice10.append(realSlice[i][9])\n",
    "    imag_slice10.append(imagSlice[i][9])\n",
    "    "
   ]
  },
  {
   "cell_type": "code",
   "execution_count": 863,
   "id": "8cc660e9-481f-4a1a-b6ff-e45ef63aaaed",
   "metadata": {},
   "outputs": [
    {
     "data": {
      "text/plain": [
       "(10000, 1024)"
      ]
     },
     "execution_count": 863,
     "metadata": {},
     "output_type": "execute_result"
    }
   ],
   "source": [
    "real_slice = np.array(real_slice1)\n",
    "imag_slice = np.array(imag_slice1)\n",
    "real_slice.shape"
   ]
  },
  {
   "cell_type": "code",
   "execution_count": 864,
   "id": "3e86080f-934b-4726-8ec1-4b295c09085f",
   "metadata": {},
   "outputs": [],
   "source": [
    "# 存储切片文件\n",
    "np.save(file=\"./Frequency/data/30db/s1/real_slice.npy\", arr=real_slice)\n",
    "np.save(file=\"./Frequency/data/30db/s1/imag_slice.npy\", arr=imag_slice)\n",
    "# np.save(file=\"amp_ratio.npy\", arr=amp_ratio_slice)\n",
    "# np.save(file=\"phase_diff.npy\", arr=phase_diff_slice)"
   ]
  },
  {
   "cell_type": "code",
   "execution_count": 865,
   "id": "f883b615-b71e-4750-a649-7d4c5416c629",
   "metadata": {},
   "outputs": [
    {
     "name": "stdout",
     "output_type": "stream",
     "text": [
      "10000\n"
     ]
    }
   ],
   "source": [
    "print(len(real_slice))"
   ]
  },
  {
   "cell_type": "code",
   "execution_count": null,
   "id": "97b35207-aa5f-429a-8f56-3e17689a10fb",
   "metadata": {},
   "outputs": [],
   "source": []
  },
  {
   "cell_type": "code",
   "execution_count": 459,
   "id": "27f13144-e845-4022-851d-cc27b8fe777c",
   "metadata": {},
   "outputs": [],
   "source": [
    "# 加载分段后的数据，进行处理\n",
    "DataPath = './Frequency/data/28db/s1/'\n",
    "Real = np.load(DataPath+'real_slice.npy')\n",
    "Imag = np.load(DataPath+'imag_slice.npy')"
   ]
  },
  {
   "cell_type": "code",
   "execution_count": 460,
   "id": "c440164f-0e6a-49ac-b265-4356f190fb78",
   "metadata": {},
   "outputs": [
    {
     "name": "stdout",
     "output_type": "stream",
     "text": [
      "(3000, 1024)\n"
     ]
    },
    {
     "data": {
      "text/plain": [
       "(3000, 1024)"
      ]
     },
     "execution_count": 460,
     "metadata": {},
     "output_type": "execute_result"
    }
   ],
   "source": [
    "\n",
    "print(Real.shape)\n",
    "Imag.shape"
   ]
  },
  {
   "cell_type": "code",
   "execution_count": 461,
   "id": "eb6cf0b8-72b7-4f78-b7f1-732b2bd2430d",
   "metadata": {},
   "outputs": [],
   "source": [
    "# Real_slice, Imag_slice = slice(Real, Imag, 1024)\n",
    "real_sample = np.array(Real)\n",
    "imag_sample = np.array(Imag)"
   ]
  },
  {
   "cell_type": "code",
   "execution_count": 462,
   "id": "dc305f3c-a6b7-4eb3-88c2-482f3956318c",
   "metadata": {},
   "outputs": [
    {
     "name": "stdout",
     "output_type": "stream",
     "text": [
      "(3000, 1024)\n"
     ]
    },
    {
     "data": {
      "text/plain": [
       "(3000, 1024)"
      ]
     },
     "execution_count": 462,
     "metadata": {},
     "output_type": "execute_result"
    }
   ],
   "source": [
    "print(real_sample.shape)\n",
    "imag_sample.shape"
   ]
  },
  {
   "cell_type": "markdown",
   "id": "ac3e1bec-3762-467c-abd8-ca45bc0550f9",
   "metadata": {},
   "source": [
    "## 4 - Save Data\n",
    "单独存储每条样本，样本格式为(1024,2)"
   ]
  },
  {
   "cell_type": "code",
   "execution_count": 463,
   "id": "6b9a0201-d8ed-4aa4-8735-048ace9998df",
   "metadata": {},
   "outputs": [],
   "source": [
    "PATH = './Frequency/slice_data/28db/s1/'"
   ]
  },
  {
   "cell_type": "code",
   "execution_count": 464,
   "id": "56ede472-e180-4e67-9f56-e74b34e32f74",
   "metadata": {},
   "outputs": [],
   "source": [
    "# 合并实部和虚部，形成三维矩阵，生成所需数据集\n",
    "def img_generate(real, imag, save_path):\n",
    "    for i in range(0,300):\n",
    "        # a = (np.array([real[i], imag[i]])).transpose(1,2,0) # 修剪好形状的单个样本\n",
    "        a = (np.array([real[i], imag[i]])).transpose(1,0)\n",
    "        # b = b.append(a.transpose(1,2,0))\n",
    "        np.save(file = save_path+\"%d.npy\"%(i+1),arr = a)\n",
    "\n",
    "target_PATH = PATH+'d1/'\n",
    "img_generate(real_sample, imag_sample, target_PATH)"
   ]
  },
  {
   "cell_type": "code",
   "execution_count": 465,
   "id": "5e46d379-996e-4858-a772-37baeca73d00",
   "metadata": {},
   "outputs": [],
   "source": [
    "# 合并实部和虚部，形成三维矩阵，生成所需数据集\n",
    "def img_generate(real, imag, save_path):\n",
    "    for i in range(300,600):\n",
    "        # a = (np.array([real[i], imag[i]])).transpose(1,2,0) # 修剪好形状的单个样本\n",
    "        a = (np.array([real[i], imag[i]])).transpose(1,0)\n",
    "        # b = b.append(a.transpose(1,2,0))\n",
    "        np.save(file = save_path+\"%d.npy\"%(i+1),arr = a)\n",
    "\n",
    "target_PATH = PATH+'d2/'\n",
    "img_generate(real_sample, imag_sample, target_PATH)"
   ]
  },
  {
   "cell_type": "code",
   "execution_count": 466,
   "id": "96a708d4-1292-40a9-83d5-ed136ee2c7c4",
   "metadata": {},
   "outputs": [],
   "source": [
    "# 合并实部和虚部，形成三维矩阵，生成所需数据集\n",
    "def img_generate(real, imag, save_path):\n",
    "    for i in range(600,900):\n",
    "        # a = (np.array([real[i], imag[i]])).transpose(1,2,0) # 修剪好形状的单个样本\n",
    "        a = (np.array([real[i], imag[i]])).transpose(1,0)\n",
    "        # b = b.append(a.transpose(1,2,0))\n",
    "        np.save(file = save_path+\"%d.npy\"%(i+1),arr = a)\n",
    "\n",
    "target_PATH = PATH+'d3/'\n",
    "img_generate(real_sample, imag_sample, target_PATH)"
   ]
  },
  {
   "cell_type": "code",
   "execution_count": 467,
   "id": "e2486f1c-b899-4224-b979-a5800eb9dd2a",
   "metadata": {},
   "outputs": [],
   "source": [
    "# 合并实部和虚部，形成三维矩阵，生成所需数据集\n",
    "def img_generate(real, imag, save_path):\n",
    "    for i in range(900,1200):\n",
    "        # a = (np.array([real[i], imag[i]])).transpose(1,2,0) # 修剪好形状的单个样本\n",
    "        a = (np.array([real[i], imag[i]])).transpose(1,0)\n",
    "        # b = b.append(a.transpose(1,2,0))\n",
    "        np.save(file = save_path+\"%d.npy\"%(i+1),arr = a)\n",
    "\n",
    "target_PATH = PATH+'d4/'\n",
    "img_generate(real_sample, imag_sample, target_PATH)"
   ]
  },
  {
   "cell_type": "code",
   "execution_count": 468,
   "id": "aa1e5b32-df4e-4a1c-9c29-3050d210c99d",
   "metadata": {},
   "outputs": [],
   "source": [
    "# 合并实部和虚部，形成三维矩阵，生成所需数据集\n",
    "def img_generate(real, imag, save_path):\n",
    "    for i in range(1200,1500):\n",
    "        # a = (np.array([real[i], imag[i]])).transpose(1,2,0) # 修剪好形状的单个样本\n",
    "        a = (np.array([real[i], imag[i]])).transpose(1,0)\n",
    "        # b = b.append(a.transpose(1,2,0))\n",
    "        np.save(file = save_path+\"%d.npy\"%(i+1),arr = a)\n",
    "\n",
    "target_PATH = PATH+'d5/'\n",
    "img_generate(real_sample, imag_sample, target_PATH)"
   ]
  },
  {
   "cell_type": "code",
   "execution_count": 469,
   "id": "67519763-bae9-4c6f-9218-85333a4f726f",
   "metadata": {},
   "outputs": [],
   "source": [
    "# 合并实部和虚部，形成三维矩阵，生成所需数据集\n",
    "def img_generate(real, imag, save_path):\n",
    "    for i in range(1500,1800):\n",
    "        # a = (np.array([real[i], imag[i]])).transpose(1,2,0) # 修剪好形状的单个样本\n",
    "        a = (np.array([real[i], imag[i]])).transpose(1,0)\n",
    "        # b = b.append(a.transpose(1,2,0))\n",
    "        np.save(file = save_path+\"%d.npy\"%(i+1),arr = a)\n",
    "\n",
    "target_PATH = PATH+'d6/'\n",
    "img_generate(real_sample, imag_sample, target_PATH)"
   ]
  },
  {
   "cell_type": "code",
   "execution_count": 470,
   "id": "4e5954d5-b364-4e3c-bee5-58dd93820940",
   "metadata": {},
   "outputs": [],
   "source": [
    "# 合并实部和虚部，形成三维矩阵，生成所需数据集\n",
    "def img_generate(real, imag, save_path):\n",
    "    for i in range(1800,2100):\n",
    "        # a = (np.array([real[i], imag[i]])).transpose(1,2,0) # 修剪好形状的单个样本\n",
    "        a = (np.array([real[i], imag[i]])).transpose(1,0)\n",
    "        # b = b.append(a.transpose(1,2,0))\n",
    "        np.save(file = save_path+\"%d.npy\"%(i+1),arr = a)\n",
    "\n",
    "target_PATH = PATH+'d7/'\n",
    "img_generate(real_sample, imag_sample, target_PATH)"
   ]
  },
  {
   "cell_type": "code",
   "execution_count": 471,
   "id": "16b59e08-a8e6-4763-925c-73be6d9655c6",
   "metadata": {},
   "outputs": [],
   "source": [
    "# 合并实部和虚部，形成三维矩阵，生成所需数据集\n",
    "def img_generate(real, imag, save_path):\n",
    "    for i in range(2100,2400):\n",
    "        # a = (np.array([real[i], imag[i]])).transpose(1,2,0) # 修剪好形状的单个样本\n",
    "        a = (np.array([real[i], imag[i]])).transpose(1,0)\n",
    "        # b = b.append(a.transpose(1,2,0))\n",
    "        np.save(file = save_path+\"%d.npy\"%(i+1),arr = a)\n",
    "\n",
    "target_PATH = PATH+'d8/'\n",
    "img_generate(real_sample, imag_sample, target_PATH)"
   ]
  },
  {
   "cell_type": "code",
   "execution_count": 472,
   "id": "5c6d0960-78b9-4ce6-9060-b2d9913d2e02",
   "metadata": {},
   "outputs": [],
   "source": [
    "# 合并实部和虚部，形成三维矩阵，生成所需数据集\n",
    "def img_generate(real, imag, save_path):\n",
    "    for i in range(2400,2700):\n",
    "        # a = (np.array([real[i], imag[i]])).transpose(1,2,0) # 修剪好形状的单个样本\n",
    "        a = (np.array([real[i], imag[i]])).transpose(1,0)\n",
    "        # b = b.append(a.transpose(1,2,0))\n",
    "        np.save(file = save_path+\"%d.npy\"%(i+1),arr = a)\n",
    "\n",
    "target_PATH = PATH+'d9/'\n",
    "img_generate(real_sample, imag_sample, target_PATH)"
   ]
  },
  {
   "cell_type": "code",
   "execution_count": 473,
   "id": "09ba5bb1-2b85-42fd-824a-e60ed0e4b2e9",
   "metadata": {},
   "outputs": [],
   "source": [
    "# 合并实部和虚部，形成三维矩阵，生成所需数据集\n",
    "def img_generate(real, imag, save_path):\n",
    "    for i in range(2700,3000):\n",
    "        # a = (np.array([real[i], imag[i]])).transpose(1,2,0) # 修剪好形状的单个样本\n",
    "        a = (np.array([real[i], imag[i]])).transpose(1,0)\n",
    "        # b = b.append(a.transpose(1,2,0))\n",
    "        np.save(file = save_path+\"%d.npy\"%(i+1),arr = a)\n",
    "\n",
    "target_PATH = PATH+'d10/'\n",
    "img_generate(real_sample, imag_sample, target_PATH)"
   ]
  },
  {
   "cell_type": "code",
   "execution_count": null,
   "id": "ba7f2126-bb62-4b58-b5b0-960093d21a73",
   "metadata": {},
   "outputs": [],
   "source": []
  },
  {
   "cell_type": "code",
   "execution_count": 263,
   "id": "b42ff4a0-764e-4fc0-8db5-724b29743adf",
   "metadata": {},
   "outputs": [
    {
     "ename": "IndexError",
     "evalue": "index 3000 is out of bounds for axis 0 with size 3000",
     "output_type": "error",
     "traceback": [
      "\u001b[0;31m---------------------------------------------------------------------------\u001b[0m",
      "\u001b[0;31mIndexError\u001b[0m                                Traceback (most recent call last)",
      "\u001b[0;32m/var/folders/jg/92gjcs8j4nz44t6fy_zhq2400000gn/T/ipykernel_37213/3981606020.py\u001b[0m in \u001b[0;36m<module>\u001b[0;34m\u001b[0m\n\u001b[1;32m      8\u001b[0m \u001b[0;34m\u001b[0m\u001b[0m\n\u001b[1;32m      9\u001b[0m \u001b[0mtarget_PATH\u001b[0m \u001b[0;34m=\u001b[0m \u001b[0mPATH\u001b[0m\u001b[0;34m+\u001b[0m\u001b[0;34m'd11/'\u001b[0m\u001b[0;34m\u001b[0m\u001b[0;34m\u001b[0m\u001b[0m\n\u001b[0;32m---> 10\u001b[0;31m \u001b[0mimg_generate\u001b[0m\u001b[0;34m(\u001b[0m\u001b[0mreal_sample\u001b[0m\u001b[0;34m,\u001b[0m \u001b[0mimag_sample\u001b[0m\u001b[0;34m,\u001b[0m \u001b[0mtarget_PATH\u001b[0m\u001b[0;34m)\u001b[0m\u001b[0;34m\u001b[0m\u001b[0;34m\u001b[0m\u001b[0m\n\u001b[0m",
      "\u001b[0;32m/var/folders/jg/92gjcs8j4nz44t6fy_zhq2400000gn/T/ipykernel_37213/3981606020.py\u001b[0m in \u001b[0;36mimg_generate\u001b[0;34m(real, imag, save_path)\u001b[0m\n\u001b[1;32m      3\u001b[0m     \u001b[0;32mfor\u001b[0m \u001b[0mi\u001b[0m \u001b[0;32min\u001b[0m \u001b[0mrange\u001b[0m\u001b[0;34m(\u001b[0m\u001b[0;36m3000\u001b[0m\u001b[0;34m,\u001b[0m\u001b[0;36m3300\u001b[0m\u001b[0;34m)\u001b[0m\u001b[0;34m:\u001b[0m\u001b[0;34m\u001b[0m\u001b[0;34m\u001b[0m\u001b[0m\n\u001b[1;32m      4\u001b[0m         \u001b[0;31m# a = (np.array([real[i], imag[i]])).transpose(1,2,0) # 修剪好形状的单个样本\u001b[0m\u001b[0;34m\u001b[0m\u001b[0;34m\u001b[0m\u001b[0m\n\u001b[0;32m----> 5\u001b[0;31m         \u001b[0ma\u001b[0m \u001b[0;34m=\u001b[0m \u001b[0;34m(\u001b[0m\u001b[0mnp\u001b[0m\u001b[0;34m.\u001b[0m\u001b[0marray\u001b[0m\u001b[0;34m(\u001b[0m\u001b[0;34m[\u001b[0m\u001b[0mreal\u001b[0m\u001b[0;34m[\u001b[0m\u001b[0mi\u001b[0m\u001b[0;34m]\u001b[0m\u001b[0;34m,\u001b[0m \u001b[0mimag\u001b[0m\u001b[0;34m[\u001b[0m\u001b[0mi\u001b[0m\u001b[0;34m]\u001b[0m\u001b[0;34m]\u001b[0m\u001b[0;34m)\u001b[0m\u001b[0;34m)\u001b[0m\u001b[0;34m.\u001b[0m\u001b[0mtranspose\u001b[0m\u001b[0;34m(\u001b[0m\u001b[0;36m1\u001b[0m\u001b[0;34m,\u001b[0m\u001b[0;36m0\u001b[0m\u001b[0;34m)\u001b[0m\u001b[0;34m\u001b[0m\u001b[0;34m\u001b[0m\u001b[0m\n\u001b[0m\u001b[1;32m      6\u001b[0m         \u001b[0;31m# b = b.append(a.transpose(1,2,0))\u001b[0m\u001b[0;34m\u001b[0m\u001b[0;34m\u001b[0m\u001b[0m\n\u001b[1;32m      7\u001b[0m         \u001b[0mnp\u001b[0m\u001b[0;34m.\u001b[0m\u001b[0msave\u001b[0m\u001b[0;34m(\u001b[0m\u001b[0mfile\u001b[0m \u001b[0;34m=\u001b[0m \u001b[0msave_path\u001b[0m\u001b[0;34m+\u001b[0m\u001b[0;34m\"%d.npy\"\u001b[0m\u001b[0;34m%\u001b[0m\u001b[0;34m(\u001b[0m\u001b[0mi\u001b[0m\u001b[0;34m+\u001b[0m\u001b[0;36m1\u001b[0m\u001b[0;34m)\u001b[0m\u001b[0;34m,\u001b[0m\u001b[0marr\u001b[0m \u001b[0;34m=\u001b[0m \u001b[0ma\u001b[0m\u001b[0;34m)\u001b[0m\u001b[0;34m\u001b[0m\u001b[0;34m\u001b[0m\u001b[0m\n",
      "\u001b[0;31mIndexError\u001b[0m: index 3000 is out of bounds for axis 0 with size 3000"
     ]
    }
   ],
   "source": [
    "# 合并实部和虚部，形成三维矩阵，生成所需数据集\n",
    "def img_generate(real, imag, save_path):\n",
    "    for i in range(3000,3300):\n",
    "        # a = (np.array([real[i], imag[i]])).transpose(1,2,0) # 修剪好形状的单个样本\n",
    "        a = (np.array([real[i], imag[i]])).transpose(1,0)\n",
    "        # b = b.append(a.transpose(1,2,0))\n",
    "        np.save(file = save_path+\"%d.npy\"%(i+1),arr = a)\n",
    "\n",
    "target_PATH = PATH+'d11/'\n",
    "img_generate(real_sample, imag_sample, target_PATH)"
   ]
  },
  {
   "cell_type": "code",
   "execution_count": 834,
   "id": "8fd6750d-c1f5-46b3-a6ea-b2cfdb05c6c1",
   "metadata": {},
   "outputs": [],
   "source": [
    "# 合并实部和虚部，形成三维矩阵，生成所需数据集\n",
    "def img_generate(real, imag, save_path):\n",
    "    for i in range(3300,3600):\n",
    "        # a = (np.array([real[i], imag[i]])).transpose(1,2,0) # 修剪好形状的单个样本\n",
    "        a = (np.array([real[i], imag[i]])).transpose(1,0)\n",
    "        # b = b.append(a.transpose(1,2,0))\n",
    "        np.save(file = save_path+\"%d.npy\"%(i+1),arr = a)\n",
    "\n",
    "target_PATH = PATH+'d12/'\n",
    "img_generate(real_sample, imag_sample, target_PATH)"
   ]
  },
  {
   "cell_type": "code",
   "execution_count": 835,
   "id": "823780e0-9745-44f5-ba3d-88a1edba5c2a",
   "metadata": {},
   "outputs": [],
   "source": [
    "# 合并实部和虚部，形成三维矩阵，生成所需数据集\n",
    "def img_generate(real, imag, save_path):\n",
    "    for i in range(3600,3900):\n",
    "        # a = (np.array([real[i], imag[i]])).transpose(1,2,0) # 修剪好形状的单个样本\n",
    "        a = (np.array([real[i], imag[i]])).transpose(1,0)\n",
    "        # b = b.append(a.transpose(1,2,0))\n",
    "        np.save(file = save_path+\"%d.npy\"%(i+1),arr = a)\n",
    "\n",
    "target_PATH = PATH+'d13/'\n",
    "img_generate(real_sample, imag_sample, target_PATH)"
   ]
  },
  {
   "cell_type": "code",
   "execution_count": 836,
   "id": "9acb426c-b4a5-4224-b08b-12b4ed9991eb",
   "metadata": {},
   "outputs": [],
   "source": [
    "# 合并实部和虚部，形成三维矩阵，生成所需数据集\n",
    "def img_generate(real, imag, save_path):\n",
    "    for i in range(3900,4200):\n",
    "        # a = (np.array([real[i], imag[i]])).transpose(1,2,0) # 修剪好形状的单个样本\n",
    "        a = (np.array([real[i], imag[i]])).transpose(1,0)\n",
    "        # b = b.append(a.transpose(1,2,0))\n",
    "        np.save(file = save_path+\"%d.npy\"%(i+1),arr = a)\n",
    "\n",
    "target_PATH = PATH+'d14/'\n",
    "img_generate(real_sample, imag_sample, target_PATH)"
   ]
  },
  {
   "cell_type": "code",
   "execution_count": 837,
   "id": "9a86bf02-e775-4733-ab74-c34d8c592c3a",
   "metadata": {},
   "outputs": [],
   "source": [
    "# 合并实部和虚部，形成三维矩阵，生成所需数据集\n",
    "def img_generate(real, imag, save_path):\n",
    "    for i in range(4200,4500):\n",
    "        # a = (np.array([real[i], imag[i]])).transpose(1,2,0) # 修剪好形状的单个样本\n",
    "        a = (np.array([real[i], imag[i]])).transpose(1,0)\n",
    "        # b = b.append(a.transpose(1,2,0))\n",
    "        np.save(file = save_path+\"%d.npy\"%(i+1),arr = a)\n",
    "\n",
    "target_PATH = PATH+'d15/'\n",
    "img_generate(real_sample, imag_sample, target_PATH)"
   ]
  },
  {
   "cell_type": "code",
   "execution_count": 838,
   "id": "2e3944c7-2928-4882-9ae5-36b1f1019e76",
   "metadata": {},
   "outputs": [
    {
     "data": {
      "text/plain": [
       "(2, 1024, 2)"
      ]
     },
     "execution_count": 838,
     "metadata": {},
     "output_type": "execute_result"
    }
   ],
   "source": [
    "a = np.array([Real[0], Imag[0]]).transpose(1,0)\n",
    "b = np.array([Real[1], Imag[1]]).transpose(1,0)\n",
    "# # a.transpose(1,2,0).shape\n",
    "c = np.array((a,b))\n",
    "c.shape\n",
    "# a = np.load('./src_data/d1/1.npy')\n",
    "# a.shape"
   ]
  },
  {
   "cell_type": "code",
   "execution_count": null,
   "id": "074bfbac-e99c-4bc0-a01b-cd4e5d6cb10b",
   "metadata": {},
   "outputs": [],
   "source": []
  },
  {
   "cell_type": "markdown",
   "id": "4724e543-766e-4bdf-88ce-77af13b4f361",
   "metadata": {},
   "source": [
    "## 数据切片\n",
    "`NOTE：`这是一个非常独立且完整的part\n",
    "处理一下完整的non_zero_vector样本，准备切片数据集\n",
    "这里生成两个数据集：\n",
    "- 一个10个信道混合的数据集\n",
    "- 另一个是10个信道分开的数据集\n",
    "\n",
    "基本步骤：\n",
    "- 读取文件夹下样本\n",
    "- 切分成十段\n",
    "- 存储到该存储的文件夹下"
   ]
  },
  {
   "cell_type": "code",
   "execution_count": 2,
   "id": "5022583c-d663-4874-b20c-4df20efbd0db",
   "metadata": {},
   "outputs": [],
   "source": [
    "# get all the files of the path,读取文件夹下所有文件名字到一个列表\n",
    "def readname(filePath):\n",
    "    # 这里一定要使用绝对路径\n",
    "    name = os.listdir(filePath)\n",
    "    return name"
   ]
  },
  {
   "cell_type": "code",
   "execution_count": 6,
   "id": "5721b77c-0dbf-4897-9b0e-afaf05749100",
   "metadata": {},
   "outputs": [],
   "source": [
    "def slice_data(arr, save_path, file_name):\n",
    "    file_path1 = save_path + '/s1_' + file_name\n",
    "    file_path2 = save_path + '/s2_' + file_name\n",
    "    file_path3 = save_path + '/s3_' + file_name\n",
    "    file_path4 = save_path + '/s4_' + file_name\n",
    "    file_path5 = save_path + '/s5_' + file_name\n",
    "    file_path6 = save_path + '/s6_' + file_name\n",
    "    file_path7 = save_path + '/s7_' + file_name\n",
    "    file_path8 = save_path + '/s8_' + file_name\n",
    "    file_path9 = save_path + '/s9_' + file_name\n",
    "    file_path10 = save_path + '/s10_' + file_name\n",
    "    # print(arr[0:1024,])\n",
    "    np.save(file = file_path1,arr = arr[0:1024])\n",
    "    np.save(file = file_path2,arr = arr[1024:2048])\n",
    "    np.save(file = file_path3,arr = arr[2048:3072])\n",
    "    np.save(file = file_path4,arr = arr[3072:4096])\n",
    "    np.save(file = file_path5,arr = arr[4096:5120])\n",
    "    np.save(file = file_path6,arr = arr[5120:6144])\n",
    "    np.save(file = file_path7,arr = arr[6144:7168])\n",
    "    np.save(file = file_path8,arr = arr[7168:8192])\n",
    "    np.save(file = file_path9,arr = arr[8192:9216])\n",
    "    np.save(file = file_path10,arr = arr[9216:10240])"
   ]
  },
  {
   "cell_type": "code",
   "execution_count": 12,
   "id": "e7b6f913-9c36-43c5-9db1-e9f4938c698c",
   "metadata": {},
   "outputs": [],
   "source": [
    "def single_slice_data(arr, save_path,file_name):\n",
    "    file_path1 = save_path + '/s1/' + file_name\n",
    "    file_path2 = save_path + '/s2/' + file_name\n",
    "    file_path3 = save_path + '/s3/' + file_name\n",
    "    file_path4 = save_path + '/s4/' + file_name\n",
    "    file_path5 = save_path + '/s5/' + file_name\n",
    "    file_path6 = save_path + '/s6/' + file_name\n",
    "    file_path7 = save_path + '/s7/' + file_name\n",
    "    file_path8 = save_path + '/s8/' + file_name\n",
    "    file_path9 = save_path + '/s9/' + file_name\n",
    "    file_path10 = save_path + '/s10/' + file_name\n",
    "    # print(arr[0:1024,])\n",
    "    np.save(file = file_path1,arr = arr[0:1024])\n",
    "    np.save(file = file_path2,arr = arr[1024:2048])\n",
    "    np.save(file = file_path3,arr = arr[2048:3072])\n",
    "    np.save(file = file_path4,arr = arr[3072:4096])\n",
    "    np.save(file = file_path5,arr = arr[4096:5120])\n",
    "    np.save(file = file_path6,arr = arr[5120:6144])\n",
    "    np.save(file = file_path7,arr = arr[6144:7168])\n",
    "    np.save(file = file_path8,arr = arr[7168:8192])\n",
    "    np.save(file = file_path9,arr = arr[8192:9216])\n",
    "    np.save(file = file_path10,arr = arr[9216:10240])"
   ]
  },
  {
   "cell_type": "code",
   "execution_count": 107,
   "id": "8b958350-3e73-4894-8e26-3e8147b76972",
   "metadata": {},
   "outputs": [
    {
     "name": "stdout",
     "output_type": "stream",
     "text": [
      "['d9', 'd7', 'd1', 'd6', 'd8', 'd10', 'd3', 'd4', 'd5', 'd2']\n"
     ]
    }
   ],
   "source": [
    "# 读取每个类别下的完整样本\n",
    "filePath = '/Users/hurrican/Desktop/experiment/Spatial/non_zero_vector/0db/'\n",
    "folder_names = readname(filePath) #这里一定要使用绝对路径\n",
    "# del folder_names[0] \n",
    "print(folder_names)"
   ]
  },
  {
   "cell_type": "code",
   "execution_count": 108,
   "id": "62b705f7-5e6c-445c-a06f-13ac6f03ba13",
   "metadata": {},
   "outputs": [],
   "source": [
    "#生成第一个数据集\n",
    "slice_PATH = './Spatial/slice_data/0db/'\n",
    "\n",
    "for folder in folder_names:\n",
    "    folder_path = filePath + folder\n",
    "    # print(folder_path)\n",
    "    file_names = readname(folder_path)\n",
    "    for file_name in file_names:\n",
    "        src_path = folder_path + '/'+ file_name\n",
    "        # print(src_path)\n",
    "        # save_path = des_PATH + folder +name\n",
    "        save_path = slice_PATH +folder \n",
    "        # print(save_path)\n",
    "        arr = np.load(src_path)\n",
    "        slice_data(arr, save_path,file_name)"
   ]
  },
  {
   "cell_type": "code",
   "execution_count": 109,
   "id": "1f1c08b1-9bf1-45b6-aedf-97946f202ca6",
   "metadata": {},
   "outputs": [],
   "source": [
    "# 生成第二个数据集\n",
    "slice1_PATH = './Spatial/single_slice_data/0db/'\n",
    "\n",
    "for folder in folder_names:\n",
    "    folder_path = filePath + folder\n",
    "    # print(folder_path)\n",
    "    file_names = readname(folder_path)\n",
    "    for file_name in file_names:\n",
    "        src_path = folder_path + '/'+ file_name\n",
    "        # print(src_path)\n",
    "        # save_path = des_PATH + folder +name\n",
    "        save_path = slice1_PATH +folder \n",
    "        # print(save_path)\n",
    "        arr = np.load(src_path)\n",
    "        single_slice_data(arr, save_path,file_name)"
   ]
  },
  {
   "cell_type": "code",
   "execution_count": null,
   "id": "6029d211-6e03-4d86-8f24-37c3f4919803",
   "metadata": {},
   "outputs": [],
   "source": []
  }
 ],
 "metadata": {
  "kernelspec": {
   "display_name": "Python 3 (ipykernel)",
   "language": "python",
   "name": "python3"
  },
  "language_info": {
   "codemirror_mode": {
    "name": "ipython",
    "version": 3
   },
   "file_extension": ".py",
   "mimetype": "text/x-python",
   "name": "python",
   "nbconvert_exporter": "python",
   "pygments_lexer": "ipython3",
   "version": "3.9.7"
  }
 },
 "nbformat": 4,
 "nbformat_minor": 5
}
