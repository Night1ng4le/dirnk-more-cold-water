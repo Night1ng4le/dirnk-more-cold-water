{
 "cells": [
  {
   "cell_type": "code",
   "execution_count": 4,
   "id": "54b86268-d6c8-48c2-952a-b1e93e46dba4",
   "metadata": {},
   "outputs": [
    {
     "name": "stdout",
     "output_type": "stream",
     "text": [
      "start...\n",
      "down!\n",
      "start...\n",
      "down!\n",
      "start...\n",
      "down!\n",
      "start...\n",
      "down!\n",
      "start...\n",
      "down!\n",
      "start...\n",
      "down!\n",
      "start...\n",
      "down!\n",
      "start...\n",
      "down!\n",
      "start...\n",
      "down!\n",
      "start...\n",
      "down!\n"
     ]
    }
   ],
   "source": [
    "# 生成图像及标签文件https://blog.csdn.net/u010682375/article/details/77746489\n",
    "import os\n",
    " \n",
    "def generate(dir,label):\n",
    "    files = os.listdir(dir)\n",
    "    files.sort()\n",
    "    print('start...')\n",
    " \n",
    "    listText = open(dir  + 'label_list.txt', 'w')\n",
    "    for file in files:\n",
    "        fileType = os.path.split(file)\n",
    "        if fileType[1] == '.txt':\n",
    "            continue\n",
    "        name = file + ' ' + str(int(label)) + '\\n'\n",
    "        listText.write(dir + name)\n",
    "    listText.close()\n",
    "    print('down!')\n",
    " \n",
    " \n",
    "if __name__ == '__main__':\n",
    "    PATH = './Spatial/slice_png_train/val/'\n",
    "    generate(PATH+'d1/', 0)\n",
    "    generate(PATH+'d2/', 1)\n",
    "    generate(PATH+'d3/', 2)\n",
    "    generate(PATH+'d4/', 3)\n",
    "    generate(PATH+'d5/', 4)\n",
    "    generate(PATH+'d6/', 5)\n",
    "    generate(PATH+'d7/', 6)\n",
    "    generate(PATH+'d8/', 7)\n",
    "    generate(PATH+'d9/', 8)\n",
    "    generate(PATH+'d10/', 9)\n",
    "    # generate(PATH+'d11/', 10)\n",
    "    # generate(PATH+'d12/', 11)\n",
    "    # generate(PATH+'d13/', 12)\n",
    "    # generate(PATH+'d14/', 13)\n",
    "    # generate(PATH+'d15/', 14)"
   ]
  },
  {
   "cell_type": "code",
   "execution_count": null,
   "id": "172e7dbd-7d0e-4977-a512-69e4d67b689f",
   "metadata": {},
   "outputs": [],
   "source": []
  }
 ],
 "metadata": {
  "kernelspec": {
   "display_name": "Python 3 (ipykernel)",
   "language": "python",
   "name": "python3"
  },
  "language_info": {
   "codemirror_mode": {
    "name": "ipython",
    "version": 3
   },
   "file_extension": ".py",
   "mimetype": "text/x-python",
   "name": "python",
   "nbconvert_exporter": "python",
   "pygments_lexer": "ipython3",
   "version": "3.9.7"
  }
 },
 "nbformat": 4,
 "nbformat_minor": 5
}
