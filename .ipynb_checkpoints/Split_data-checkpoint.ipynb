{
 "cells": [
  {
   "cell_type": "code",
   "execution_count": 1,
   "id": "e24b2cdd-2f28-41cb-94ba-4e2805e11114",
   "metadata": {},
   "outputs": [],
   "source": [
    "import os\n",
    "import random\n",
    "from shutil import copy2"
   ]
  },
  {
   "cell_type": "code",
   "execution_count": 2,
   "id": "78dbf584-d65b-4ce3-8184-c3ccabb8838b",
   "metadata": {},
   "outputs": [],
   "source": [
    "def data_set_split(src_data_folder, target_data_folder, train_scale=0.8, val_scale=0.2, test_scale=0.0):\n",
    "    '''\n",
    "    读取源数据文件夹，生成划分好的文件夹，分为trian、val、test三个文件夹进行\n",
    "    :param src_data_folder: 源文件夹 E:/biye/gogogo/note_book/torch_note/data/utils_test/data_split/src_data\n",
    "    :param target_data_folder: 目标文件夹 E:/biye/gogogo/note_book/torch_note/data/utils_test/data_split/target_data\n",
    "    :param train_scale: 训练集比例\n",
    "    :param val_scale: 验证集比例\n",
    "    :param test_scale: 测试集比例\n",
    "    :return:\n",
    "    '''\n",
    "    print(\"开始数据集划分\")\n",
    "    class_names = os.listdir(src_data_folder)\n",
    "    # 在目标目录下创建文件夹\n",
    "    split_names = ['train', 'val', 'test']\n",
    "    for split_name in split_names:\n",
    "        split_path = os.path.join(target_data_folder, split_name)\n",
    "        if os.path.isdir(split_path):\n",
    "            pass\n",
    "        else:\n",
    "            os.mkdir(split_path)\n",
    "        # 然后在split_path的目录下创建类别文件夹\n",
    "        for class_name in class_names:\n",
    "            class_split_path = os.path.join(split_path, class_name)\n",
    "            if os.path.isdir(class_split_path):\n",
    "                pass\n",
    "            else:\n",
    "                os.mkdir(class_split_path)\n",
    "\n",
    "    # 按照比例划分数据集，并进行数据图片的复制\n",
    "    # 首先进行分类遍历\n",
    "    for class_name in class_names:\n",
    "        print(class_name)\n",
    "        current_class_data_path = os.path.join(src_data_folder, class_name)\n",
    "        current_all_data = os.listdir(current_class_data_path)\n",
    "        current_data_length = len(current_all_data)\n",
    "        current_data_index_list = list(range(current_data_length))\n",
    "        random.shuffle(current_data_index_list)\n",
    "\n",
    "        train_folder = os.path.join(os.path.join(target_data_folder, 'train'), class_name)\n",
    "        val_folder = os.path.join(os.path.join(target_data_folder, 'val'), class_name)\n",
    "        test_folder = os.path.join(os.path.join(target_data_folder, 'test'), class_name)\n",
    "        train_stop_flag = current_data_length * train_scale\n",
    "        val_stop_flag = current_data_length * (train_scale + val_scale)\n",
    "        current_idx = 0\n",
    "        train_num = 0\n",
    "        val_num = 0\n",
    "        test_num = 0\n",
    "        for i in current_data_index_list:\n",
    "            src_img_path = os.path.join(current_class_data_path, current_all_data[i])\n",
    "            if current_idx <= train_stop_flag:\n",
    "                copy2(src_img_path, train_folder)\n",
    "                # print(\"{}复制到了{}\".format(src_img_path, train_folder))\n",
    "                train_num = train_num + 1\n",
    "            elif (current_idx > train_stop_flag) and (current_idx <= val_stop_flag):\n",
    "                copy2(src_img_path, val_folder)\n",
    "                # print(\"{}复制到了{}\".format(src_img_path, val_folder))\n",
    "                val_num = val_num + 1\n",
    "            else:\n",
    "                copy2(src_img_path, test_folder)\n",
    "                # print(\"{}复制到了{}\".format(src_img_path, test_folder))\n",
    "                test_num = test_num + 1\n",
    "\n",
    "            current_idx = current_idx + 1\n",
    "\n",
    "        print(\"*********************************{}*************************************\".format(class_name))\n",
    "        print(\n",
    "            \"{}类按照{}：{}：{}的比例划分完成，一共{}张图片\".format(class_name, train_scale, val_scale, test_scale, current_data_length))\n",
    "        print(\"训练集{}：{}张\".format(train_folder, train_num))\n",
    "        print(\"验证集{}：{}张\".format(val_folder, val_num))\n",
    "        print(\"测试集{}：{}张\".format(test_folder, test_num))"
   ]
  },
  {
   "cell_type": "code",
   "execution_count": 4,
   "id": "1855ce62-9b1a-46b5-98f4-86507a5ba57d",
   "metadata": {},
   "outputs": [
    {
     "name": "stdout",
     "output_type": "stream",
     "text": [
      "开始数据集划分\n",
      ".DS_Store\n"
     ]
    },
    {
     "ename": "NotADirectoryError",
     "evalue": "[Errno 20] Not a directory: './Spatial/slice_png/30db/.DS_Store'",
     "output_type": "error",
     "traceback": [
      "\u001b[0;31m---------------------------------------------------------------------------\u001b[0m",
      "\u001b[0;31mNotADirectoryError\u001b[0m                        Traceback (most recent call last)",
      "\u001b[0;32m/var/folders/jg/92gjcs8j4nz44t6fy_zhq2400000gn/T/ipykernel_17018/2283876306.py\u001b[0m in \u001b[0;36m<module>\u001b[0;34m\u001b[0m\n\u001b[1;32m      2\u001b[0m     \u001b[0msrc_data_folder\u001b[0m \u001b[0;34m=\u001b[0m \u001b[0;34mr\"./Spatial/slice_png/30db/\"\u001b[0m   \u001b[0;31m# todo 修改你的原始数据集路径\u001b[0m\u001b[0;34m\u001b[0m\u001b[0;34m\u001b[0m\u001b[0m\n\u001b[1;32m      3\u001b[0m     \u001b[0mtarget_data_folder\u001b[0m \u001b[0;34m=\u001b[0m \u001b[0;34mr\"./Spatial/slice_png_train/\"\u001b[0m  \u001b[0;31m# todo 修改为你要存放的路径\u001b[0m\u001b[0;34m\u001b[0m\u001b[0;34m\u001b[0m\u001b[0m\n\u001b[0;32m----> 4\u001b[0;31m     \u001b[0mdata_set_split\u001b[0m\u001b[0;34m(\u001b[0m\u001b[0msrc_data_folder\u001b[0m\u001b[0;34m,\u001b[0m \u001b[0mtarget_data_folder\u001b[0m\u001b[0;34m)\u001b[0m\u001b[0;34m\u001b[0m\u001b[0;34m\u001b[0m\u001b[0m\n\u001b[0m",
      "\u001b[0;32m/var/folders/jg/92gjcs8j4nz44t6fy_zhq2400000gn/T/ipykernel_17018/2335490317.py\u001b[0m in \u001b[0;36mdata_set_split\u001b[0;34m(src_data_folder, target_data_folder, train_scale, val_scale, test_scale)\u001b[0m\n\u001b[1;32m     32\u001b[0m         \u001b[0mprint\u001b[0m\u001b[0;34m(\u001b[0m\u001b[0mclass_name\u001b[0m\u001b[0;34m)\u001b[0m\u001b[0;34m\u001b[0m\u001b[0;34m\u001b[0m\u001b[0m\n\u001b[1;32m     33\u001b[0m         \u001b[0mcurrent_class_data_path\u001b[0m \u001b[0;34m=\u001b[0m \u001b[0mos\u001b[0m\u001b[0;34m.\u001b[0m\u001b[0mpath\u001b[0m\u001b[0;34m.\u001b[0m\u001b[0mjoin\u001b[0m\u001b[0;34m(\u001b[0m\u001b[0msrc_data_folder\u001b[0m\u001b[0;34m,\u001b[0m \u001b[0mclass_name\u001b[0m\u001b[0;34m)\u001b[0m\u001b[0;34m\u001b[0m\u001b[0;34m\u001b[0m\u001b[0m\n\u001b[0;32m---> 34\u001b[0;31m         \u001b[0mcurrent_all_data\u001b[0m \u001b[0;34m=\u001b[0m \u001b[0mos\u001b[0m\u001b[0;34m.\u001b[0m\u001b[0mlistdir\u001b[0m\u001b[0;34m(\u001b[0m\u001b[0mcurrent_class_data_path\u001b[0m\u001b[0;34m)\u001b[0m\u001b[0;34m\u001b[0m\u001b[0;34m\u001b[0m\u001b[0m\n\u001b[0m\u001b[1;32m     35\u001b[0m         \u001b[0mcurrent_data_length\u001b[0m \u001b[0;34m=\u001b[0m \u001b[0mlen\u001b[0m\u001b[0;34m(\u001b[0m\u001b[0mcurrent_all_data\u001b[0m\u001b[0;34m)\u001b[0m\u001b[0;34m\u001b[0m\u001b[0;34m\u001b[0m\u001b[0m\n\u001b[1;32m     36\u001b[0m         \u001b[0mcurrent_data_index_list\u001b[0m \u001b[0;34m=\u001b[0m \u001b[0mlist\u001b[0m\u001b[0;34m(\u001b[0m\u001b[0mrange\u001b[0m\u001b[0;34m(\u001b[0m\u001b[0mcurrent_data_length\u001b[0m\u001b[0;34m)\u001b[0m\u001b[0;34m)\u001b[0m\u001b[0;34m\u001b[0m\u001b[0;34m\u001b[0m\u001b[0m\n",
      "\u001b[0;31mNotADirectoryError\u001b[0m: [Errno 20] Not a directory: './Spatial/slice_png/30db/.DS_Store'"
     ]
    }
   ],
   "source": [
    "if __name__ == '__main__':\n",
    "    src_data_folder = r\"./Spatial/slice_png/30db/\"   # todo 修改你的原始数据集路径\n",
    "    target_data_folder = r\"./Spatial/slice_png_train/\"  # todo 修改为你要存放的路径\n",
    "    data_set_split(src_data_folder, target_data_folder)"
   ]
  },
  {
   "cell_type": "code",
   "execution_count": null,
   "id": "f7b9902f-9ce8-4b6e-95ed-fd590df40fd2",
   "metadata": {},
   "outputs": [],
   "source": []
  }
 ],
 "metadata": {
  "kernelspec": {
   "display_name": "Python 3 (ipykernel)",
   "language": "python",
   "name": "python3"
  },
  "language_info": {
   "codemirror_mode": {
    "name": "ipython",
    "version": 3
   },
   "file_extension": ".py",
   "mimetype": "text/x-python",
   "name": "python",
   "nbconvert_exporter": "python",
   "pygments_lexer": "ipython3",
   "version": "3.9.7"
  }
 },
 "nbformat": 4,
 "nbformat_minor": 5
}
